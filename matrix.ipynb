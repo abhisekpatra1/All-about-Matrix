{
 "cells": [
  {
   "cell_type": "code",
   "execution_count": 1,
   "id": "74c9985a",
   "metadata": {},
   "outputs": [
    {
     "name": "stdout",
     "output_type": "stream",
     "text": [
      "3\n",
      "1\n",
      "2\n",
      "3\n",
      "4\n",
      "3\n",
      "5\n",
      "1\n",
      "2\n",
      "1\n",
      "[[1, 2, 3], [4, 3, 5], [1, 2, 1]] \n",
      "\n",
      "Determinant of Matrix= 9.999999999999998\n",
      "\n",
      "Invers of The Matrix=\n",
      " [[-0.7  0.4  0.1]\n",
      " [ 0.1 -0.2  0.7]\n",
      " [ 0.5 -0.  -0.5]]\n",
      "\n",
      "Rank of Matrix= 3\n",
      "\n",
      "Squre of Matrix=\n",
      " [[12 14 16]\n",
      " [21 27 32]\n",
      " [10 10 14]]\n"
     ]
    }
   ],
   "source": [
    "import numpy.linalg as la\n",
    "n=int(input())\n",
    "l=[]\n",
    "for i in range(n):\n",
    "    col=[]\n",
    "    for j in range(n):\n",
    "        x=int(input(''))\n",
    "        col.append(x)\n",
    "    l.append(col)\n",
    "print(l,'\\n')\n",
    "print(\"Determinant of Matrix=\",la.det(l))\n",
    "if(la.det(l)==0):\n",
    "    print(\"\\nThe matrix is SINGULAR so Invers is not Exist\")\n",
    "else:\n",
    "    print(\"\\nInvers of The Matrix=\\n\",la.inv(l))\n",
    "print(\"\\nRank of Matrix=\",la.matrix_rank(l))\n",
    "print('\\nSqure of Matrix=\\n',la.matrix_power(l,2))\n"
   ]
  },
  {
   "cell_type": "code",
   "execution_count": null,
   "id": "0c2015ec",
   "metadata": {},
   "outputs": [],
   "source": []
  }
 ],
 "metadata": {
  "kernelspec": {
   "display_name": "Python 3 (ipykernel)",
   "language": "python",
   "name": "python3"
  },
  "language_info": {
   "codemirror_mode": {
    "name": "ipython",
    "version": 3
   },
   "file_extension": ".py",
   "mimetype": "text/x-python",
   "name": "python",
   "nbconvert_exporter": "python",
   "pygments_lexer": "ipython3",
   "version": "3.9.13"
  }
 },
 "nbformat": 4,
 "nbformat_minor": 5
}
